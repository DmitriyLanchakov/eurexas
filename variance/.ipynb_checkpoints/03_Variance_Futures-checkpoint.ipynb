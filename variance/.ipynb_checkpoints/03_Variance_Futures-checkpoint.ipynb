{
 "metadata": {
  "name": "",
  "signature": "sha256:1b15ab4b64eb82ead9290dd33261ee08fa3028d19162dcbc3391a4e6f8a6e5a6"
 },
 "nbformat": 3,
 "nbformat_minor": 0,
 "worksheets": [
  {
   "cells": [
    {
     "cell_type": "markdown",
     "metadata": {},
     "source": [
      "<div id=\"under\" style=\"left: 0px; top: 0px; position: relative\"> <img src=\"http://hilpisch.com/header.jpg\"> </div>"
     ]
    },
    {
     "cell_type": "heading",
     "level": 1,
     "metadata": {},
     "source": [
      "Variance Futures at Eurex"
     ]
    },
    {
     "cell_type": "markdown",
     "metadata": {},
     "source": [
      "Dr. Yves J. Hilpisch\n",
      "\n",
      "The Python Quants GmbH\n",
      "\n",
      "<a href='mailto:analytics@pythonquants.com'>analytics@pythonquants.com</a>\n",
      "\n",
      "<a href='http://pythonquants.com'>www.pythonquants.com</a>"
     ]
    },
    {
     "cell_type": "heading",
     "level": 2,
     "metadata": {},
     "source": [
      "Tutorial Pages"
     ]
    },
    {
     "cell_type": "markdown",
     "metadata": {},
     "source": [
      "You find the **Variance Advanced Services** tutorial pages under\n",
      "\n",
      "**<a href=\"http://www.eurexchange.com/advanced-services/variance/\" target=\"_blank\">http://www.eurexchange.com/advanced-services/variance/</a>**\n",
      "\n",
      "The respective **tutorial page** on which this IPython Notebook is based on is found under:\n",
      "\n",
      "**<a href=\"http://www.eurexchange.com/advanced-services/variance/03_Variance_Futures.html\" target=\"_blank\">Variance Futures at Eurex</a>**\n",
      "\n",
      "A **general overview** of the Advanced Services offering is given here:\n",
      "\n",
      "**<a href=\"http://www.eurexchange.com/advanced-services/\" target=\"_blank\">http://www.eurexchange.com/advanced-services/</a>**"
     ]
    },
    {
     "cell_type": "heading",
     "level": 2,
     "metadata": {},
     "source": [
      "Introduction and Motivation"
     ]
    },
    {
     "cell_type": "heading",
     "level": 2,
     "metadata": {
      "slideshow": {
       "slide_type": "slide"
      }
     },
     "source": [
      "Variance Futures Concepts"
     ]
    },
    {
     "cell_type": "heading",
     "level": 3,
     "metadata": {},
     "source": [
      "Realized Variance"
     ]
    },
    {
     "cell_type": "heading",
     "level": 3,
     "metadata": {
      "slideshow": {
       "slide_type": "subslide"
      }
     },
     "source": [
      "Net Present Value Concepts"
     ]
    },
    {
     "cell_type": "heading",
     "level": 4,
     "metadata": {},
     "source": [
      "Discount Factor"
     ]
    },
    {
     "cell_type": "code",
     "collapsed": false,
     "input": [
      "import pandas as pd\n",
      "import warnings\n",
      "warnings.simplefilter('ignore')"
     ],
     "language": "python",
     "metadata": {},
     "outputs": []
    },
    {
     "cell_type": "code",
     "collapsed": false,
     "input": [
      "# read data from Excel spreadsheet file\n",
      "eb = pd.read_csv('data/EURIBOR.csv',  # filename\n",
      "                   index_col=0,  # index column\n",
      "                   parse_dates=True)  # parse index for dates\n",
      "eb.info()"
     ],
     "language": "python",
     "metadata": {},
     "outputs": []
    },
    {
     "cell_type": "code",
     "collapsed": false,
     "input": [
      "%matplotlib inline\n",
      "eb.plot(figsize=(10, 5))"
     ],
     "language": "python",
     "metadata": {},
     "outputs": []
    },
    {
     "cell_type": "code",
     "collapsed": false,
     "input": [
      "eb.tail()"
     ],
     "language": "python",
     "metadata": {},
     "outputs": []
    },
    {
     "cell_type": "code",
     "collapsed": false,
     "input": [
      "import math\n",
      "math.exp(-0.0042 * 365. / 365)"
     ],
     "language": "python",
     "metadata": {},
     "outputs": []
    },
    {
     "cell_type": "heading",
     "level": 4,
     "metadata": {},
     "source": [
      "ARMVM"
     ]
    },
    {
     "cell_type": "code",
     "collapsed": false,
     "input": [
      "# read data from Excel spreadsheet file\n",
      "eo = pd.read_csv('data/EONIA.csv',  # filename\n",
      "                   index_col=0,  # index column\n",
      "                   parse_dates=True)  # parse index for dates\n",
      "# change index to column names, column names to index values\n",
      "eo.info()"
     ],
     "language": "python",
     "metadata": {},
     "outputs": []
    },
    {
     "cell_type": "code",
     "collapsed": false,
     "input": [
      "eo.plot(figsize=(10, 5))"
     ],
     "language": "python",
     "metadata": {},
     "outputs": []
    },
    {
     "cell_type": "code",
     "collapsed": true,
     "input": [
      "eo.tail()"
     ],
     "language": "python",
     "metadata": {},
     "outputs": []
    },
    {
     "cell_type": "code",
     "collapsed": false,
     "input": [
      "r_eo = 0.001"
     ],
     "language": "python",
     "metadata": {},
     "outputs": []
    },
    {
     "cell_type": "code",
     "collapsed": false,
     "input": [
      "ARMVM3 = 0 * math.exp(r_eo / 365) + (3100 - 3000) * (math.exp(r_eo / 365) - 1)\n",
      "ARMVM3"
     ],
     "language": "python",
     "metadata": {},
     "outputs": []
    },
    {
     "cell_type": "code",
     "collapsed": false,
     "input": [
      "ARMVM4 = ARMVM3 * math.exp(r_eo / 365) + (3050 - 3000) * (math.exp(r_eo / 365) - 1)\n",
      "ARMVM4"
     ],
     "language": "python",
     "metadata": {},
     "outputs": []
    },
    {
     "cell_type": "heading",
     "level": 3,
     "metadata": {
      "slideshow": {
       "slide_type": "subslide"
      }
     },
     "source": [
      "Traded Variance Strike"
     ]
    },
    {
     "cell_type": "heading",
     "level": 3,
     "metadata": {
      "slideshow": {
       "slide_type": "subslide"
      }
     },
     "source": [
      "Traded Futures Price"
     ]
    },
    {
     "cell_type": "heading",
     "level": 3,
     "metadata": {
      "slideshow": {
       "slide_type": "subslide"
      }
     },
     "source": [
      "Number of Futures"
     ]
    },
    {
     "cell_type": "heading",
     "level": 3,
     "metadata": {
      "slideshow": {
       "slide_type": "subslide"
      }
     },
     "source": [
      "Par Variance Strike"
     ]
    },
    {
     "cell_type": "heading",
     "level": 3,
     "metadata": {
      "slideshow": {
       "slide_type": "subslide"
      }
     },
     "source": [
      "Futures Settlement Price"
     ]
    },
    {
     "cell_type": "heading",
     "level": 2,
     "metadata": {},
     "source": [
      "Example Calculation for a Variance Future"
     ]
    },
    {
     "cell_type": "code",
     "collapsed": false,
     "input": [
      "h5 = pd.HDFStore('data/SX5E_V6I1.h5', 'r')\n",
      "data = h5['SX5E_V6I1']\n",
      "h5.close()"
     ],
     "language": "python",
     "metadata": {},
     "outputs": []
    },
    {
     "cell_type": "code",
     "collapsed": false,
     "input": [
      "data"
     ],
     "language": "python",
     "metadata": {},
     "outputs": []
    },
    {
     "cell_type": "code",
     "collapsed": false,
     "input": [
      "data = data.join(eb['2w'], how='left')\n",
      "data = data.join(eo, how='left')"
     ],
     "language": "python",
     "metadata": {},
     "outputs": []
    },
    {
     "cell_type": "code",
     "collapsed": false,
     "input": [
      "data"
     ],
     "language": "python",
     "metadata": {},
     "outputs": []
    },
    {
     "cell_type": "code",
     "collapsed": false,
     "input": [
      "import numpy as np\n",
      "data['R_t'] = np.log(data['SX5E'] / data['SX5E'].shift(1))"
     ],
     "language": "python",
     "metadata": {},
     "outputs": []
    },
    {
     "cell_type": "code",
     "collapsed": false,
     "input": [
      "data['sigma**2'] = 10000 * 252 * np.cumsum(data['R_t'] ** 2) / np.arange(len(data))"
     ],
     "language": "python",
     "metadata": {},
     "outputs": []
    },
    {
     "cell_type": "code",
     "collapsed": false,
     "input": [
      "data"
     ],
     "language": "python",
     "metadata": {},
     "outputs": []
    },
    {
     "cell_type": "code",
     "collapsed": false,
     "input": [
      "T = 14."
     ],
     "language": "python",
     "metadata": {},
     "outputs": []
    },
    {
     "cell_type": "code",
     "collapsed": false,
     "input": [
      "data['t'] = np.arange(1, 15)\n",
      "data['t']"
     ],
     "language": "python",
     "metadata": {},
     "outputs": []
    },
    {
     "cell_type": "code",
     "collapsed": false,
     "input": [
      "r_eb = 0.0006\n",
      "data['DF_t'] = np.exp(-r_eb * (T - data['t']) / 365.) "
     ],
     "language": "python",
     "metadata": {},
     "outputs": []
    },
    {
     "cell_type": "code",
     "collapsed": false,
     "input": [
      "data"
     ],
     "language": "python",
     "metadata": {},
     "outputs": []
    },
    {
     "cell_type": "code",
     "collapsed": false,
     "input": [
      "sigma_K = data['V6I1'][0]\n",
      "sigma_K"
     ],
     "language": "python",
     "metadata": {},
     "outputs": []
    },
    {
     "cell_type": "code",
     "collapsed": false,
     "input": [
      "Notional = 100000 / (2 * sigma_K)\n",
      "Notional"
     ],
     "language": "python",
     "metadata": {},
     "outputs": []
    },
    {
     "cell_type": "code",
     "collapsed": false,
     "input": [
      "data['F_tS'] = 0.0\n",
      "data['F_tS'][0] = 3000"
     ],
     "language": "python",
     "metadata": {},
     "outputs": []
    },
    {
     "cell_type": "code",
     "collapsed": false,
     "input": [
      "data['ARMVM_t'] = 0.0"
     ],
     "language": "python",
     "metadata": {},
     "outputs": []
    },
    {
     "cell_type": "code",
     "collapsed": false,
     "input": [
      "data['F_tS'][1] = data['DF_t'][1] * ((data['t'][1] * data['sigma**2'][1]\n",
      "                                       + (T - data['t'][1]) * data['V6I1'][1] ** 2) / T\n",
      "                                       - sigma_K ** 2) + 3000\n",
      "data['F_tS'][1]                                      "
     ],
     "language": "python",
     "metadata": {},
     "outputs": []
    },
    {
     "cell_type": "code",
     "collapsed": false,
     "input": [
      "for t in data.index[1:]:\n",
      "    data['ARMVM_t'][t] = (data['ARMVM_t'].shift(1)[t]\n",
      "                          * math.exp(data['EONIA'].shift(1)[t] / 252)\n",
      "                       + (data['F_tS'].shift(1)[t] - 3000)\n",
      "                         * (math.exp(data['EONIA'].shift(1)[t] / 252) - 1))\n",
      "    data['F_tS'][t] = data['DF_t'][t] * ((data['t'][t] * data['sigma**2'][t]\n",
      "                                  + (T - data['t'][t]) * data['V6I1'][t] ** 2) / T\n",
      "                                  - sigma_K ** 2) - data['ARMVM_t'][t] + 3000"
     ],
     "language": "python",
     "metadata": {},
     "outputs": []
    },
    {
     "cell_type": "code",
     "collapsed": false,
     "input": [
      "data"
     ],
     "language": "python",
     "metadata": {},
     "outputs": []
    },
    {
     "cell_type": "code",
     "collapsed": false,
     "input": [
      "data[['SX5E', 'sigma**2', 'F_tS']].plot(subplots=True,\n",
      "                                       color='blue',\n",
      "                                       figsize=(10, 9));"
     ],
     "language": "python",
     "metadata": {},
     "outputs": []
    },
    {
     "cell_type": "code",
     "collapsed": false,
     "input": [
      "import warnings\n",
      "warnings.simplefilter(\"ignore\")\n",
      "h5 = pd.HDFStore('data/var_data.h5', 'a')\n",
      "h5['var_future'] = data\n",
      "h5.close()"
     ],
     "language": "python",
     "metadata": {},
     "outputs": []
    },
    {
     "cell_type": "heading",
     "level": 2,
     "metadata": {},
     "source": [
      "Comparison of Variance Swap and Future"
     ]
    },
    {
     "cell_type": "code",
     "collapsed": false,
     "input": [
      "h5 = pd.HDFStore('data/var_data.h5', 'r')\n",
      "var_swap = h5['var_swap']\n",
      "h5.close()"
     ],
     "language": "python",
     "metadata": {},
     "outputs": []
    },
    {
     "cell_type": "code",
     "collapsed": false,
     "input": [
      "comp = pd.DataFrame({'F_tS': data['F_tS'] - 3000,\n",
      "                     'V_t': var_swap['V_t']}, index=data.index)\n",
      "comp"
     ],
     "language": "python",
     "metadata": {},
     "outputs": []
    },
    {
     "cell_type": "code",
     "collapsed": false,
     "input": [
      "comp.plot(style=['b', 'ro'], figsize=(9, 5));"
     ],
     "language": "python",
     "metadata": {},
     "outputs": []
    },
    {
     "cell_type": "code",
     "collapsed": false,
     "input": [
      "(comp['F_tS'] - comp['V_t']).plot(style='r^', figsize=(9, 5))"
     ],
     "language": "python",
     "metadata": {},
     "outputs": []
    },
    {
     "cell_type": "heading",
     "level": 2,
     "metadata": {},
     "source": [
      "Further Reading"
     ]
    },
    {
     "cell_type": "markdown",
     "metadata": {},
     "source": [
      "<img src=\"http://hilpisch.com/tpq_logo.png\" alt=\"The Python Quants\" width=\"35%\" align=\"right\" border=\"0\"><br>\n",
      "\n",
      "<a href=\"http://www.pythonquants.com\" target=\"_blank\">www.pythonquants.com</a> | <a href=\"mailto:analytics@pythonquants.com\">analytics@pythonquants.com</a> | <a href=\"http://twitter.com/dyjh\" target=\"_blank\">@dyjh</a>\n",
      "\n",
      "**Eurex Advanced Services** |\n",
      "<a href=\"http://www.eurexchange.com/advanced-services/\">Eurex Advanced Services Web site</a>\n",
      "\n",
      "**Python Quant Platform** |\n",
      "<a href=\"http://quant-platform.com\">http://quant-platform.com</a>\n",
      "\n",
      "**Derivatives Analytics with Python** |\n",
      "<a href=\"http://www.derivatives-analytics-with-python.com\" target=\"_blank\">Derivatives Analytics @ Wiley Finance</a>\n",
      "\n",
      "**Python for Finance** |\n",
      "<a href=\"http://shop.oreilly.com/product/0636920032441.do\" target=\"_blank\">Python for Finance @ O'Reilly</a>"
     ]
    }
   ],
   "metadata": {}
  }
 ]
}