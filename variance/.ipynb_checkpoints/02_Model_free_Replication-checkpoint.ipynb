{
 "metadata": {
  "name": "",
  "signature": "sha256:1b48269a9fee7431ed840f1194d32b305e41869a04357d377f086a15e6675376"
 },
 "nbformat": 3,
 "nbformat_minor": 0,
 "worksheets": [
  {
   "cells": [
    {
     "cell_type": "markdown",
     "metadata": {},
     "source": [
      "<div id=\"under\" style=\"left: 0px; top: 0px; position: relative\"> <img src=\"http://hilpisch.com/header.jpg\"> </div>"
     ]
    },
    {
     "cell_type": "heading",
     "level": 1,
     "metadata": {},
     "source": [
      "Model-Free Replication of Variance"
     ]
    },
    {
     "cell_type": "markdown",
     "metadata": {},
     "source": [
      "Dr. Yves J. Hilpisch\n",
      "\n",
      "The Python Quants GmbH\n",
      "\n",
      "<a href='mailto:analytics@pythonquants.com'>analytics@pythonquants.com</a>\n",
      "\n",
      "<a href='http://pythonquants.com'>www.pythonquants.com</a>"
     ]
    },
    {
     "cell_type": "heading",
     "level": 2,
     "metadata": {},
     "source": [
      "Tutorial Pages"
     ]
    },
    {
     "cell_type": "markdown",
     "metadata": {},
     "source": [
      "You find the **Variance Advanced Services** tutorial pages under\n",
      "\n",
      "**<a href=\"http://www.eurexchange.com/advanced-services/variance/\" target=\"_blank\">http://www.eurexchange.com/advanced-services/variance/</a>**\n",
      "\n",
      "The respective **tutorial page** on which this IPython Notebook is based on is found under:\n",
      "\n",
      "**<a href=\"http://www.eurexchange.com/advanced-services/variance/02_Model_free_Replication.html\" target=\"_blank\">Model-Free Replication of Variance</a>**\n",
      "\n",
      "A **general overview** of the Advanced Services offering is given here:\n",
      "\n",
      "**<a href=\"http://www.eurexchange.com/advanced-services/\" target=\"_blank\">http://www.eurexchange.com/advanced-services/</a>**"
     ]
    },
    {
     "cell_type": "heading",
     "level": 2,
     "metadata": {},
     "source": [
      "Spanning with Options"
     ]
    },
    {
     "cell_type": "heading",
     "level": 2,
     "metadata": {},
     "source": [
      "Log Contracts"
     ]
    },
    {
     "cell_type": "heading",
     "level": 2,
     "metadata": {},
     "source": [
      "Static Replication of Realized Variance and Variance Swaps"
     ]
    },
    {
     "cell_type": "heading",
     "level": 2,
     "metadata": {},
     "source": [
      "Constant Dollar Gamma Derivatives and Portfolios"
     ]
    },
    {
     "cell_type": "heading",
     "level": 2,
     "metadata": {},
     "source": [
      "Practical Replication of Realized Variance"
     ]
    },
    {
     "cell_type": "code",
     "collapsed": false,
     "input": [
      "import math\n",
      "import numpy as np\n",
      "import scipy.stats as scs\n",
      "def dollar_gamma(St, K, T, r, sigma, t):\n",
      "    ''' Returns European call option dollar gamma. '''\n",
      "    d1 = ((np.log(St / K) + (r + 0.5 * sigma ** 2) * (T - t))\n",
      "              / sigma * math.sqrt(T - t))\n",
      "    gamma = scs.norm.pdf(d1) / (St * sigma * math.sqrt(T - t))\n",
      "    return gamma * St ** 2"
     ],
     "language": "python",
     "metadata": {},
     "outputs": []
    },
    {
     "cell_type": "code",
     "collapsed": false,
     "input": [
      "T = 1.0\n",
      "r = 0.01\n",
      "sigma = 0.2\n",
      "t = 0.0"
     ],
     "language": "python",
     "metadata": {},
     "outputs": []
    },
    {
     "cell_type": "code",
     "collapsed": false,
     "input": [
      "import pandas as pd \n",
      "import matplotlib.pyplot as plt\n",
      "%matplotlib inline\n",
      "gammas = pd.DataFrame()\n",
      "# 300 data points over the range form 0 to 300\n",
      "s_range = np.linspace(0.0001, 300, 300)\n",
      "strike_range = range(25, 226, 25)\n",
      "for K in strike_range:\n",
      "    gammas['K=%d' % K] = dollar_gamma(s_range, K, T, r, sigma, t)"
     ],
     "language": "python",
     "metadata": {},
     "outputs": []
    },
    {
     "cell_type": "code",
     "collapsed": false,
     "input": [
      "gammas.info()"
     ],
     "language": "python",
     "metadata": {},
     "outputs": []
    },
    {
     "cell_type": "code",
     "collapsed": false,
     "input": [
      "gammas.plot(figsize=(10, 5))\n",
      "plt.xlabel('index level')\n",
      "plt.ylabel('dollar gamma');"
     ],
     "language": "python",
     "metadata": {},
     "outputs": []
    },
    {
     "cell_type": "code",
     "collapsed": false,
     "input": [
      "gammas['sum'] = gammas.sum(axis=1)\n",
      "gammas.plot(figsize=(10, 5))\n",
      "plt.xlabel('index level')\n",
      "plt.ylabel('dollar gamma');"
     ],
     "language": "python",
     "metadata": {},
     "outputs": []
    },
    {
     "cell_type": "code",
     "collapsed": false,
     "input": [
      "gammas_k = pd.DataFrame()\n",
      "for K in strike_range:\n",
      "    gammas_k['K=%d' % K] = dollar_gamma(s_range, K, T, r, sigma, t) / K\n",
      "gammas_k['sum'] = gammas_k.sum(axis=1)"
     ],
     "language": "python",
     "metadata": {},
     "outputs": []
    },
    {
     "cell_type": "code",
     "collapsed": false,
     "input": [
      "gammas_k.plot(figsize=(10, 5))\n",
      "plt.xlabel('index level')\n",
      "plt.ylabel('$K$ weighted dollar gamma');"
     ],
     "language": "python",
     "metadata": {},
     "outputs": []
    },
    {
     "cell_type": "code",
     "collapsed": false,
     "input": [
      "gammas_k2 = pd.DataFrame()\n",
      "for K in strike_range:\n",
      "    gammas_k2['K=%d' % K] = dollar_gamma(s_range, K, T, r, sigma, t) / K ** 2\n",
      "gammas_k2['sum'] = gammas_k2.sum(axis=1)"
     ],
     "language": "python",
     "metadata": {},
     "outputs": []
    },
    {
     "cell_type": "code",
     "collapsed": false,
     "input": [
      "gammas_k2.plot(figsize=(10, 5))\n",
      "plt.xlabel('index level')\n",
      "plt.ylabel('$K^2$ weighted dollar gamma');"
     ],
     "language": "python",
     "metadata": {},
     "outputs": []
    },
    {
     "cell_type": "code",
     "collapsed": false,
     "input": [
      "# more dense strike range\n",
      "strike_range = range(10, 350, 5)\n",
      "gammas_k2 = pd.DataFrame()\n",
      "for K in strike_range:\n",
      "    gammas_k2['K=%d' % K] = dollar_gamma(s_range, K, T, r, sigma, t) / K ** 2\n",
      "gammas_k2['sum'] = gammas_k2.sum(axis=1)"
     ],
     "language": "python",
     "metadata": {},
     "outputs": []
    },
    {
     "cell_type": "code",
     "collapsed": false,
     "input": [
      "gammas_k2.plot(figsize=(10, 5), legend=False)\n",
      "plt.xlabel('index level')\n",
      "plt.ylabel('$K^2$ weighted dollar gamma')"
     ],
     "language": "python",
     "metadata": {},
     "outputs": []
    },
    {
     "cell_type": "heading",
     "level": 2,
     "metadata": {},
     "source": [
      "VSTOXX as Volatility Index"
     ]
    },
    {
     "cell_type": "heading",
     "level": 2,
     "metadata": {},
     "source": [
      "Further Reading"
     ]
    },
    {
     "cell_type": "markdown",
     "metadata": {},
     "source": [
      "<img src=\"http://hilpisch.com/tpq_logo.png\" alt=\"The Python Quants\" width=\"35%\" align=\"right\" border=\"0\"><br>\n",
      "\n",
      "<a href=\"http://www.pythonquants.com\" target=\"_blank\">www.pythonquants.com</a> | <a href=\"mailto:analytics@pythonquants.com\">analytics@pythonquants.com</a> | <a href=\"http://twitter.com/dyjh\" target=\"_blank\">@dyjh</a>\n",
      "\n",
      "**Eurex Advanced Services** |\n",
      "<a href=\"http://www.eurexchange.com/advanced-services/\">Eurex Advanced Services Web site</a>\n",
      "\n",
      "**Python Quant Platform** |\n",
      "<a href=\"http://quant-platform.com\">http://quant-platform.com</a>\n",
      "\n",
      "**Derivatives Analytics with Python** |\n",
      "<a href=\"http://www.derivatives-analytics-with-python.com\" target=\"_blank\">Derivatives Analytics @ Wiley Finance</a>\n",
      "\n",
      "**Python for Finance** |\n",
      "<a href=\"http://shop.oreilly.com/product/0636920032441.do\" target=\"_blank\">Python for Finance @ O'Reilly</a>"
     ]
    }
   ],
   "metadata": {}
  }
 ]
}